{
 "cells": [
  {
   "cell_type": "code",
   "execution_count": 1,
   "metadata": {
    "scrolled": true
   },
   "outputs": [
    {
     "name": "stdout",
     "output_type": "stream",
     "text": [
      "2.0.0\n"
     ]
    }
   ],
   "source": [
    "import tensorflow as tf\n",
    "print(tf.__version__)"
   ]
  },
  {
   "cell_type": "markdown",
   "metadata": {},
   "source": [
    "# Validation, regularisation and callbacks"
   ]
  },
  {
   "cell_type": "markdown",
   "metadata": {},
   "source": [
    " ## Coding tutorials\n",
    " #### [1. Validation sets](#coding_tutorial_1)\n",
    " #### [2. Model regularisation](#coding_tutorial_2)\n",
    " #### [3. Introduction to callbacks](#coding_tutorial_3)\n",
    " #### [4. Early stopping / patience](#coding_tutorial_4)"
   ]
  },
  {
   "cell_type": "markdown",
   "metadata": {},
   "source": [
    "***\n",
    "<a id=\"coding_tutorial_1\"></a>\n",
    "## Validation sets"
   ]
  },
  {
   "cell_type": "markdown",
   "metadata": {},
   "source": [
    "#### Load the data"
   ]
  },
  {
   "cell_type": "code",
   "execution_count": 28,
   "metadata": {},
   "outputs": [
    {
     "name": "stdout",
     "output_type": "stream",
     "text": [
      ".. _diabetes_dataset:\n",
      "\n",
      "Diabetes dataset\n",
      "----------------\n",
      "\n",
      "Ten baseline variables, age, sex, body mass index, average blood\n",
      "pressure, and six blood serum measurements were obtained for each of n =\n",
      "442 diabetes patients, as well as the response of interest, a\n",
      "quantitative measure of disease progression one year after baseline.\n",
      "\n",
      "**Data Set Characteristics:**\n",
      "\n",
      "  :Number of Instances: 442\n",
      "\n",
      "  :Number of Attributes: First 10 columns are numeric predictive values\n",
      "\n",
      "  :Target: Column 11 is a quantitative measure of disease progression one year after baseline\n",
      "\n",
      "  :Attribute Information:\n",
      "      - Age\n",
      "      - Sex\n",
      "      - Body mass index\n",
      "      - Average blood pressure\n",
      "      - S1\n",
      "      - S2\n",
      "      - S3\n",
      "      - S4\n",
      "      - S5\n",
      "      - S6\n",
      "\n",
      "Note: Each of these 10 feature variables have been mean centered and scaled by the standard deviation times `n_samples` (i.e. the sum of squares of each column totals 1).\n",
      "\n",
      "Source URL:\n",
      "http://www4.stat.ncsu.edu/~boos/var.select/diabetes.html\n",
      "\n",
      "For more information see:\n",
      "Bradley Efron, Trevor Hastie, Iain Johnstone and Robert Tibshirani (2004) \"Least Angle Regression,\" Annals of Statistics (with discussion), 407-499.\n",
      "(http://web.stanford.edu/~hastie/Papers/LARS/LeastAngle_2002.pdf)\n"
     ]
    }
   ],
   "source": [
    "# Load the diabetes dataset\n",
    "from sklearn.datasets import load_diabetes\n",
    "\n",
    "diabetes_dataset = load_diabetes()\n",
    "print(diabetes_dataset[\"DESCR\"])"
   ]
  },
  {
   "cell_type": "code",
   "execution_count": 29,
   "metadata": {},
   "outputs": [],
   "source": [
    "# Save the input and target variables\n",
    "\n",
    "data = diabetes_dataset[\"data\"]\n",
    "targets = diabetes_dataset[\"target\"]"
   ]
  },
  {
   "cell_type": "code",
   "execution_count": 30,
   "metadata": {},
   "outputs": [
    {
     "name": "stdout",
     "output_type": "stream",
     "text": [
      "[-1.47194752e-02 -1.00165882e+00 -1.44579915e-01  6.99512942e-01\n",
      " -2.22496178e-01 -7.15965848e-01 -1.83538046e-01 -1.15749134e+00\n",
      " -5.47147277e-01  2.05006151e+00 -6.64021672e-01 -1.07957508e+00\n",
      "  3.48889755e-01  4.26806019e-01 -4.43258925e-01  2.45001404e-01\n",
      "  1.80071184e-01 -1.05621783e-01 -7.15965848e-01  2.06043272e-01\n",
      " -1.09256112e+00 -1.33929596e+00 -1.09256112e+00  1.20596866e+00\n",
      "  4.13819975e-01  6.47568766e-01 -1.96524090e-01 -8.71798376e-01\n",
      " -2.74440354e-01  1.69943833e+00 -3.00412442e-01 -1.20943552e+00\n",
      "  2.45262887e+00 -8.45826288e-01 -1.13151925e+00 -6.51035629e-01\n",
      "  1.46568953e+00  1.60853602e+00  1.29687096e+00 -8.06868156e-01\n",
      " -6.77007716e-01 -1.26137969e+00 -1.18346343e+00 -7.80896068e-01\n",
      "  1.38777327e+00 -1.28735178e+00  4.91736239e-01 -1.31593871e-01\n",
      " -1.00165882e+00 -1.31593871e-01  3.72247006e-02  9.46247777e-01\n",
      " -1.20943552e+00 -6.25063541e-01  3.87847887e-01 -3.13398486e-01\n",
      " -1.30033783e+00 -1.49512849e+00  2.32015360e-01  2.32015360e-01\n",
      " -1.18346343e+00 -1.05621783e-01 -1.30033783e+00 -3.13398486e-01\n",
      " -1.05360299e+00  1.41113052e-01 -2.77055191e-02 -7.15965848e-01\n",
      "  1.02154920e-01  3.35903711e-01 -1.35228200e+00  1.53061975e+00\n",
      "  6.47568766e-01 -5.34161233e-01 -8.71798376e-01 -1.43019827e+00\n",
      "  2.32015360e-01  6.21596678e-01  1.29687096e+00 -5.08189145e-01\n",
      " -1.18607827e-01 -1.31332387e+00 -1.30033783e+00  7.51457118e-01\n",
      " -1.13151925e+00 -1.44579915e-01 -1.26137969e+00 -2.35482222e-01\n",
      " -1.43019827e+00 -5.34161233e-01 -7.02979804e-01  1.54099096e-01\n",
      " -1.35228200e+00 -7.28951892e-01 -8.06868156e-01  1.28127008e-01\n",
      " -2.77055191e-02  1.64749415e+00 -7.80896068e-01 -8.97770464e-01\n",
      " -3.13398486e-01 -6.51035629e-01  1.94617316e+00  5.95624590e-01\n",
      " -7.41937936e-01 -1.28735178e+00 -2.35482222e-01 -1.05621783e-01\n",
      "  1.03715008e+00 -9.23742551e-01 -6.25063541e-01 -1.20943552e+00\n",
      "  1.21895470e+00  1.88124294e+00  1.37478723e+00  9.98191953e-01\n",
      "  1.59554997e+00  1.67346624e+00  3.48889755e-01  6.21596678e-01\n",
      "  6.21596678e-01  2.70973492e-01  3.61875799e-01 -8.84784420e-01\n",
      " -4.04300794e-01  1.15140964e-01 -6.89993760e-01 -5.60133321e-01\n",
      " -4.82217057e-01  1.50464767e+00  1.58256393e+00  7.61828325e-02\n",
      " -5.86105409e-01 -8.97770464e-01 -6.38049585e-01  1.55659184e+00\n",
      " -8.71798376e-01  1.66048019e+00  2.38769865e+00  1.67346624e+00\n",
      " -4.43258925e-01  2.14096382e+00  1.07610822e+00 -1.19644947e+00\n",
      "  2.83959536e-01  1.38777327e+00  3.35903711e-01 -3.13398486e-01\n",
      " -7.28951892e-01 -3.39370574e-01  1.76436855e+00 -8.32840244e-01\n",
      "  1.81631272e+00 -1.05360299e+00  5.82638546e-01  4.39792063e-01\n",
      " -1.65096101e+00 -8.84784420e-01 -7.28951892e-01  5.56666458e-01\n",
      " -1.28735178e+00  8.42359425e-01  2.57987448e-01 -2.74440354e-01\n",
      "  8.03401293e-01 -1.20943552e+00 -1.06658903e+00  8.81317557e-01\n",
      "  1.50464767e+00 -1.73343121e-03 -1.36526805e+00 -1.01464486e+00\n",
      "  1.85527085e+00 -6.64021672e-01 -1.47194752e-02 -3.26384530e-01\n",
      "  1.10208030e+00  9.46247777e-01 -9.23742551e-01 -1.47194752e-02\n",
      " -5.86105409e-01 -1.14450530e+00 -1.83538046e-01  4.26806019e-01\n",
      "  1.46568953e+00 -6.64021672e-01 -1.96524090e-01 -1.18607827e-01\n",
      " -1.44579915e-01 -9.49714639e-01  1.81631272e+00  3.35903711e-01\n",
      " -7.93882112e-01 -4.69231013e-01 -8.58812332e-01 -3.91314750e-01\n",
      " -1.04061695e+00 -3.00412442e-01 -1.31593871e-01 -8.06868156e-01\n",
      "  7.61828325e-02 -1.46915640e+00  5.69652502e-01  9.07289645e-01\n",
      "  1.62152206e+00 -6.89993760e-01  5.69652502e-01  6.47568766e-01\n",
      "  3.72247006e-02 -9.75686727e-01  5.04722283e-01 -1.06658903e+00\n",
      " -1.02763090e+00 -1.33929596e+00 -1.13151925e+00  1.43971745e+00\n",
      "  1.24492679e+00  1.86825690e+00  8.03401293e-01  4.26806019e-01\n",
      " -9.62700683e-01 -7.67910024e-01  1.29687096e+00 -2.77055191e-02\n",
      " -9.75686727e-01  7.25485030e-01 -9.75686727e-01 -5.73119365e-01\n",
      "  1.02154920e-01 -1.28735178e+00  8.81317557e-01  2.42386567e-02\n",
      "  1.38777327e+00 -8.06868156e-01  1.21895470e+00 -3.65342662e-01\n",
      " -1.10554717e+00 -1.04061695e+00  1.36180118e+00  1.42673140e+00\n",
      "  1.59554997e+00  3.22917667e-01 -1.05360299e+00 -1.36526805e+00\n",
      "  4.52778107e-01 -3.52356618e-01 -9.62700683e-01 -1.31332387e+00\n",
      "  1.37478723e+00  8.16387337e-01  1.95915920e+00  1.17999657e+00\n",
      " -7.93882112e-01 -2.77055191e-02  2.05006151e+00  1.12526127e-02\n",
      "  2.51755909e+00 -1.15749134e+00 -8.19854200e-01 -1.32630991e+00\n",
      " -1.46915640e+00 -6.38049585e-01  2.02408942e+00 -4.69231013e-01\n",
      " -9.26357388e-02 -1.01464486e+00 -1.39124013e+00 -4.82217057e-01\n",
      "  1.45270349e+00 -8.45826288e-01  6.47568766e-01 -3.26384530e-01\n",
      "  3.87847887e-01  1.15402448e+00 -1.11853321e+00 -7.54923980e-01\n",
      "  1.69943833e+00 -1.14450530e+00 -6.51035629e-01  6.21596678e-01\n",
      "  1.46568953e+00 -7.54923980e-01  1.01117800e+00  3.74861843e-01\n",
      "  5.02107446e-02  1.05013613e+00 -1.19644947e+00  8.68331513e-01\n",
      " -9.36728595e-01 -1.09256112e+00  2.33575448e+00  1.24492679e+00\n",
      " -8.84784420e-01  6.21596678e-01 -1.26137969e+00 -8.71798376e-01\n",
      " -8.19854200e-01 -1.57304475e+00 -3.00412442e-01 -8.97770464e-01\n",
      "  1.59554997e+00 -1.13151925e+00  5.95624590e-01  1.08909426e+00\n",
      "  1.30985701e+00 -3.65342662e-01 -1.40422618e+00  2.57987448e-01\n",
      " -4.95203101e-01 -1.31593871e-01 -5.60133321e-01  3.61875799e-01\n",
      " -1.05621783e-01  1.41113052e-01 -6.66636509e-02 -7.15965848e-01\n",
      "  8.81317557e-01  4.91736239e-01 -5.60133321e-01  5.04722283e-01\n",
      " -3.91314750e-01  1.01117800e+00  1.16701052e+00  1.24492679e+00\n",
      "  1.25791283e+00  5.17708327e-01 -2.74440354e-01  1.10208030e+00\n",
      " -9.62700683e-01 -2.22496178e-01  1.19298261e+00  6.08610634e-01\n",
      "  1.53061975e+00  1.54099096e-01 -1.04061695e+00 -7.28951892e-01\n",
      "  1.99811734e+00 -7.93882112e-01  8.03401293e-01 -7.41937936e-01\n",
      "  8.29373381e-01  1.43971745e+00  3.35903711e-01 -5.08189145e-01\n",
      "  6.21596678e-01 -1.70552003e-01 -1.70552003e-01 -8.32840244e-01\n",
      " -5.36776070e-02 -8.32840244e-01  1.17999657e+00 -1.05360299e+00\n",
      " -9.75686727e-01 -5.60133321e-01  1.55659184e+00 -1.19644947e+00\n",
      " -1.27436574e+00  8.94303601e-01 -8.06868156e-01  2.06304756e+00\n",
      "  1.67346624e+00  3.87847887e-01  2.19290800e+00 -1.22242156e+00\n",
      "  1.42673140e+00  6.99512942e-01  1.05013613e+00  1.16701052e+00\n",
      " -3.78328706e-01  1.93057228e-01 -1.15749134e+00  5.82638546e-01\n",
      " -1.05360299e+00  2.06043272e-01 -1.57565959e-01  8.42359425e-01\n",
      " -4.04300794e-01  1.07610822e+00  1.20596866e+00 -1.45617035e+00\n",
      " -1.30033783e+00 -6.25063541e-01 -2.61454310e-01 -8.32840244e-01\n",
      " -1.07957508e+00  8.68331513e-01 -1.04061695e+00  6.34582722e-01\n",
      " -5.47147277e-01 -1.31332387e+00  1.62152206e+00 -1.15749134e+00\n",
      " -4.43258925e-01 -1.07957508e+00  1.56957789e+00  1.37478723e+00\n",
      " -1.41721222e+00  5.95624590e-01  1.16701052e+00  1.03715008e+00\n",
      "  2.96945580e-01 -7.67910024e-01  2.06043272e-01  1.59554997e+00\n",
      "  1.82929877e+00  1.67346624e+00 -1.04061695e+00 -1.57565959e-01\n",
      "  4.78750195e-01  3.74861843e-01  7.38471074e-01 -2.09510134e-01\n",
      "  1.41374536e+00 -5.08189145e-01 -2.74440354e-01  2.83959536e-01\n",
      "  1.36180118e+00 -1.26137969e+00 -8.84784420e-01 -1.43019827e+00\n",
      " -7.96496949e-02  7.77429206e-01  1.05013613e+00 -7.93882112e-01\n",
      " -5.34161233e-01 -1.73343121e-03 -4.17286837e-01 -1.10554717e+00\n",
      "  2.05006151e+00 -7.54923980e-01  4.00833931e-01 -1.11853321e+00\n",
      "  2.70973492e-01 -1.04061695e+00 -1.33929596e+00 -1.14450530e+00\n",
      " -1.35228200e+00  3.35903711e-01 -6.25063541e-01 -2.61454310e-01\n",
      "  8.81317557e-01 -1.23540761e+00]\n"
     ]
    }
   ],
   "source": [
    "# Normalise the target data (this will make clearer training curves)\n",
    "\n",
    "targets = (targets - targets.mean(axis=0)) / targets.std()\n",
    "print(targets)"
   ]
  },
  {
   "cell_type": "code",
   "execution_count": 31,
   "metadata": {},
   "outputs": [],
   "source": [
    "# Split the data into train and test sets\n",
    "\n",
    "from sklearn.model_selection import train_test_split\n",
    "train_data, test_data, train_targets, test_targets = train_test_split(data, targets, test_size=0.1)"
   ]
  },
  {
   "cell_type": "markdown",
   "metadata": {},
   "source": [
    "#### Train a feedforward neural network model"
   ]
  },
  {
   "cell_type": "code",
   "execution_count": 34,
   "metadata": {},
   "outputs": [],
   "source": [
    "# Build the model\n",
    "\n",
    "from tensorflow.keras.models import Sequential\n",
    "from tensorflow.keras.layers import Dense\n",
    "\n",
    "def get_model():\n",
    "    return Sequential([\n",
    "        Dense(128, activation=\"relu\", input_shape=(train_data.shape[1], )),\n",
    "        Dense(128, activation=\"relu\", ),\n",
    "        Dense(128, activation=\"relu\", ),\n",
    "        Dense(128, activation=\"relu\", ),\n",
    "        Dense(128, activation=\"relu\", ),\n",
    "        Dense(128, activation=\"relu\", ),\n",
    "        Dense(1),\n",
    "    ])\n",
    "\n",
    "\n",
    "model = get_model()\n"
   ]
  },
  {
   "cell_type": "code",
   "execution_count": 18,
   "metadata": {},
   "outputs": [
    {
     "name": "stdout",
     "output_type": "stream",
     "text": [
      "Model: \"sequential\"\n",
      "_________________________________________________________________\n",
      "Layer (type)                 Output Shape              Param #   \n",
      "=================================================================\n",
      "dense (Dense)                (None, 128)               1408      \n",
      "_________________________________________________________________\n",
      "dense_1 (Dense)              (None, 128)               16512     \n",
      "_________________________________________________________________\n",
      "dense_2 (Dense)              (None, 128)               16512     \n",
      "_________________________________________________________________\n",
      "dense_3 (Dense)              (None, 128)               16512     \n",
      "_________________________________________________________________\n",
      "dense_4 (Dense)              (None, 128)               16512     \n",
      "_________________________________________________________________\n",
      "dense_5 (Dense)              (None, 128)               16512     \n",
      "_________________________________________________________________\n",
      "dense_6 (Dense)              (None, 1)                 129       \n",
      "=================================================================\n",
      "Total params: 84,097\n",
      "Trainable params: 84,097\n",
      "Non-trainable params: 0\n",
      "_________________________________________________________________\n",
      "None\n"
     ]
    }
   ],
   "source": [
    "# Print the model summary\n",
    "\n",
    "print(model.summary())"
   ]
  },
  {
   "cell_type": "code",
   "execution_count": 11,
   "metadata": {},
   "outputs": [],
   "source": [
    "# Compile the model\n",
    "\n",
    "model.compile(optimizer=\"adam\", loss=\"mse\", metrics=[\"mae\", ])"
   ]
  },
  {
   "cell_type": "code",
   "execution_count": 12,
   "metadata": {},
   "outputs": [
    {
     "name": "stdout",
     "output_type": "stream",
     "text": [
      "Train on 337 samples, validate on 60 samples\n",
      "Epoch 1/100\n",
      "337/337 [==============================] - 1s 4ms/sample - loss: 0.9843 - mae: 0.8500 - val_loss: 1.0045 - val_mae: 0.8715\n",
      "Epoch 2/100\n",
      "337/337 [==============================] - 0s 541us/sample - loss: 0.8862 - mae: 0.8083 - val_loss: 0.8080 - val_mae: 0.7910\n",
      "Epoch 3/100\n",
      "337/337 [==============================] - 0s 586us/sample - loss: 0.6828 - mae: 0.7071 - val_loss: 0.5191 - val_mae: 0.6267\n",
      "Epoch 4/100\n",
      "337/337 [==============================] - 0s 592us/sample - loss: 0.5173 - mae: 0.5877 - val_loss: 0.4871 - val_mae: 0.5270\n",
      "Epoch 5/100\n",
      "337/337 [==============================] - 0s 574us/sample - loss: 0.4966 - mae: 0.5560 - val_loss: 0.4302 - val_mae: 0.5408\n",
      "Epoch 6/100\n",
      "337/337 [==============================] - 0s 335us/sample - loss: 0.4786 - mae: 0.5568 - val_loss: 0.4543 - val_mae: 0.5528\n",
      "Epoch 7/100\n",
      "337/337 [==============================] - 0s 603us/sample - loss: 0.4721 - mae: 0.5495 - val_loss: 0.4791 - val_mae: 0.5930\n",
      "Epoch 8/100\n",
      "337/337 [==============================] - 0s 585us/sample - loss: 0.5133 - mae: 0.5704 - val_loss: 0.4725 - val_mae: 0.5297\n",
      "Epoch 9/100\n",
      "337/337 [==============================] - 0s 330us/sample - loss: 0.4436 - mae: 0.5325 - val_loss: 0.4470 - val_mae: 0.5754\n",
      "Epoch 10/100\n",
      "337/337 [==============================] - 0s 586us/sample - loss: 0.4585 - mae: 0.5416 - val_loss: 0.4313 - val_mae: 0.5377\n",
      "Epoch 11/100\n",
      "337/337 [==============================] - 0s 588us/sample - loss: 0.4461 - mae: 0.5336 - val_loss: 0.4166 - val_mae: 0.5288\n",
      "Epoch 12/100\n",
      "337/337 [==============================] - 0s 587us/sample - loss: 0.4225 - mae: 0.5120 - val_loss: 0.4262 - val_mae: 0.5171\n",
      "Epoch 13/100\n",
      "337/337 [==============================] - 0s 578us/sample - loss: 0.4122 - mae: 0.5062 - val_loss: 0.4273 - val_mae: 0.5479\n",
      "Epoch 14/100\n",
      "337/337 [==============================] - 0s 324us/sample - loss: 0.4192 - mae: 0.5132 - val_loss: 0.4487 - val_mae: 0.5283\n",
      "Epoch 15/100\n",
      "337/337 [==============================] - 0s 342us/sample - loss: 0.4085 - mae: 0.5041 - val_loss: 0.4157 - val_mae: 0.5282\n",
      "Epoch 16/100\n",
      "337/337 [==============================] - 0s 589us/sample - loss: 0.3998 - mae: 0.5008 - val_loss: 0.4356 - val_mae: 0.5268\n",
      "Epoch 17/100\n",
      "337/337 [==============================] - 0s 588us/sample - loss: 0.3949 - mae: 0.5041 - val_loss: 0.4307 - val_mae: 0.5360\n",
      "Epoch 18/100\n",
      "337/337 [==============================] - 0s 582us/sample - loss: 0.3961 - mae: 0.4926 - val_loss: 0.4251 - val_mae: 0.5145\n",
      "Epoch 19/100\n",
      "337/337 [==============================] - 0s 563us/sample - loss: 0.3879 - mae: 0.4837 - val_loss: 0.4269 - val_mae: 0.5465\n",
      "Epoch 20/100\n",
      "337/337 [==============================] - 0s 335us/sample - loss: 0.4075 - mae: 0.5141 - val_loss: 0.4719 - val_mae: 0.5433\n",
      "Epoch 21/100\n",
      "337/337 [==============================] - 0s 588us/sample - loss: 0.3719 - mae: 0.4788 - val_loss: 0.3916 - val_mae: 0.4983\n",
      "Epoch 22/100\n",
      "337/337 [==============================] - 0s 579us/sample - loss: 0.3652 - mae: 0.4704 - val_loss: 0.4164 - val_mae: 0.5203\n",
      "Epoch 23/100\n",
      "337/337 [==============================] - 0s 564us/sample - loss: 0.3473 - mae: 0.4647 - val_loss: 0.4336 - val_mae: 0.5347\n",
      "Epoch 24/100\n",
      "337/337 [==============================] - 0s 330us/sample - loss: 0.3428 - mae: 0.4613 - val_loss: 0.4804 - val_mae: 0.5456\n",
      "Epoch 25/100\n",
      "337/337 [==============================] - 0s 581us/sample - loss: 0.3710 - mae: 0.4712 - val_loss: 0.4687 - val_mae: 0.5719\n",
      "Epoch 26/100\n",
      "337/337 [==============================] - 0s 572us/sample - loss: 0.3599 - mae: 0.4765 - val_loss: 0.4915 - val_mae: 0.5526\n",
      "Epoch 27/100\n",
      "337/337 [==============================] - 0s 324us/sample - loss: 0.3710 - mae: 0.4923 - val_loss: 0.4606 - val_mae: 0.5490\n",
      "Epoch 28/100\n",
      "337/337 [==============================] - 0s 585us/sample - loss: 0.3585 - mae: 0.4655 - val_loss: 0.4207 - val_mae: 0.5378\n",
      "Epoch 29/100\n",
      "337/337 [==============================] - 0s 577us/sample - loss: 0.3375 - mae: 0.4655 - val_loss: 0.5266 - val_mae: 0.5624\n",
      "Epoch 30/100\n",
      "337/337 [==============================] - 0s 578us/sample - loss: 0.3675 - mae: 0.4751 - val_loss: 0.4349 - val_mae: 0.5412\n",
      "Epoch 31/100\n",
      "337/337 [==============================] - 0s 331us/sample - loss: 0.3060 - mae: 0.4288 - val_loss: 0.4816 - val_mae: 0.5441\n",
      "Epoch 32/100\n",
      "337/337 [==============================] - 0s 589us/sample - loss: 0.2982 - mae: 0.4253 - val_loss: 0.4678 - val_mae: 0.5505\n",
      "Epoch 33/100\n",
      "337/337 [==============================] - 0s 587us/sample - loss: 0.2820 - mae: 0.4092 - val_loss: 0.4554 - val_mae: 0.5413\n",
      "Epoch 34/100\n",
      "337/337 [==============================] - 0s 581us/sample - loss: 0.2872 - mae: 0.4244 - val_loss: 0.5347 - val_mae: 0.5780\n",
      "Epoch 35/100\n",
      "337/337 [==============================] - 0s 316us/sample - loss: 0.2906 - mae: 0.4249 - val_loss: 0.4589 - val_mae: 0.5428\n",
      "Epoch 36/100\n",
      "337/337 [==============================] - 0s 577us/sample - loss: 0.2530 - mae: 0.3927 - val_loss: 0.4773 - val_mae: 0.5688\n",
      "Epoch 37/100\n",
      "337/337 [==============================] - 0s 590us/sample - loss: 0.2746 - mae: 0.4122 - val_loss: 0.4419 - val_mae: 0.5179\n",
      "Epoch 38/100\n",
      "337/337 [==============================] - 0s 589us/sample - loss: 0.2477 - mae: 0.3894 - val_loss: 0.5779 - val_mae: 0.5959\n",
      "Epoch 39/100\n",
      "337/337 [==============================] - 0s 572us/sample - loss: 0.2560 - mae: 0.4013 - val_loss: 0.5065 - val_mae: 0.5718\n",
      "Epoch 40/100\n",
      "337/337 [==============================] - 0s 325us/sample - loss: 0.2379 - mae: 0.3814 - val_loss: 0.4947 - val_mae: 0.5688\n",
      "Epoch 41/100\n",
      "337/337 [==============================] - 0s 584us/sample - loss: 0.2325 - mae: 0.3777 - val_loss: 0.4905 - val_mae: 0.5762\n",
      "Epoch 42/100\n",
      "337/337 [==============================] - 0s 588us/sample - loss: 0.2516 - mae: 0.3937 - val_loss: 0.4692 - val_mae: 0.5596\n",
      "Epoch 43/100\n",
      "337/337 [==============================] - 0s 575us/sample - loss: 0.2119 - mae: 0.3667 - val_loss: 0.5340 - val_mae: 0.5724\n",
      "Epoch 44/100\n",
      "337/337 [==============================] - 0s 334us/sample - loss: 0.2049 - mae: 0.3553 - val_loss: 0.6641 - val_mae: 0.6236\n",
      "Epoch 45/100\n",
      "337/337 [==============================] - 0s 329us/sample - loss: 0.2814 - mae: 0.4179 - val_loss: 0.5238 - val_mae: 0.5710\n",
      "Epoch 46/100\n",
      "337/337 [==============================] - 0s 567us/sample - loss: 0.2947 - mae: 0.4114 - val_loss: 0.5400 - val_mae: 0.6000\n",
      "Epoch 47/100\n",
      "337/337 [==============================] - 0s 327us/sample - loss: 0.3080 - mae: 0.4412 - val_loss: 0.6271 - val_mae: 0.6140\n",
      "Epoch 48/100\n",
      "337/337 [==============================] - 0s 586us/sample - loss: 0.2346 - mae: 0.3897 - val_loss: 0.4605 - val_mae: 0.5628\n",
      "Epoch 49/100\n",
      "337/337 [==============================] - 0s 583us/sample - loss: 0.2199 - mae: 0.3684 - val_loss: 0.4780 - val_mae: 0.5584\n",
      "Epoch 50/100\n",
      "337/337 [==============================] - 0s 566us/sample - loss: 0.1802 - mae: 0.3351 - val_loss: 0.4911 - val_mae: 0.5597\n",
      "Epoch 51/100\n",
      "337/337 [==============================] - 0s 335us/sample - loss: 0.1579 - mae: 0.3136 - val_loss: 0.4975 - val_mae: 0.5716\n",
      "Epoch 52/100\n",
      "337/337 [==============================] - 0s 581us/sample - loss: 0.1464 - mae: 0.2998 - val_loss: 0.5558 - val_mae: 0.5868\n",
      "Epoch 53/100\n",
      "337/337 [==============================] - 0s 599us/sample - loss: 0.1418 - mae: 0.2974 - val_loss: 0.5430 - val_mae: 0.5787\n",
      "Epoch 54/100\n",
      "337/337 [==============================] - 0s 578us/sample - loss: 0.1424 - mae: 0.3013 - val_loss: 0.5111 - val_mae: 0.5708\n",
      "Epoch 55/100\n",
      "337/337 [==============================] - 0s 573us/sample - loss: 0.1343 - mae: 0.2924 - val_loss: 0.5382 - val_mae: 0.5911\n",
      "Epoch 56/100\n",
      "337/337 [==============================] - 0s 326us/sample - loss: 0.1286 - mae: 0.2821 - val_loss: 0.5420 - val_mae: 0.5758\n",
      "Epoch 57/100\n",
      "337/337 [==============================] - 0s 592us/sample - loss: 0.1308 - mae: 0.2789 - val_loss: 0.6454 - val_mae: 0.6411\n",
      "Epoch 58/100\n",
      "337/337 [==============================] - 0s 578us/sample - loss: 0.1404 - mae: 0.2989 - val_loss: 0.5838 - val_mae: 0.5899\n",
      "Epoch 59/100\n",
      "337/337 [==============================] - 0s 566us/sample - loss: 0.1298 - mae: 0.2808 - val_loss: 0.5665 - val_mae: 0.6071\n",
      "Epoch 60/100\n",
      "337/337 [==============================] - 0s 335us/sample - loss: 0.1481 - mae: 0.3024 - val_loss: 0.4776 - val_mae: 0.5611\n",
      "Epoch 61/100\n",
      "337/337 [==============================] - 0s 587us/sample - loss: 0.1150 - mae: 0.2687 - val_loss: 0.5807 - val_mae: 0.6243\n",
      "Epoch 62/100\n",
      "337/337 [==============================] - 0s 575us/sample - loss: 0.1384 - mae: 0.2865 - val_loss: 0.4769 - val_mae: 0.5482\n",
      "Epoch 63/100\n",
      "337/337 [==============================] - 0s 576us/sample - loss: 0.1161 - mae: 0.2674 - val_loss: 0.5628 - val_mae: 0.6161\n",
      "Epoch 64/100\n",
      "337/337 [==============================] - 0s 326us/sample - loss: 0.1160 - mae: 0.2621 - val_loss: 0.5325 - val_mae: 0.5848\n",
      "Epoch 65/100\n",
      "337/337 [==============================] - 0s 590us/sample - loss: 0.1106 - mae: 0.2603 - val_loss: 0.5739 - val_mae: 0.6134\n",
      "Epoch 66/100\n",
      "337/337 [==============================] - 0s 586us/sample - loss: 0.1105 - mae: 0.2568 - val_loss: 0.5743 - val_mae: 0.5892\n",
      "Epoch 67/100\n",
      "337/337 [==============================] - 0s 566us/sample - loss: 0.0955 - mae: 0.2391 - val_loss: 0.6537 - val_mae: 0.6400\n",
      "Epoch 68/100\n",
      "337/337 [==============================] - 0s 332us/sample - loss: 0.1127 - mae: 0.2613 - val_loss: 0.6186 - val_mae: 0.6122\n",
      "Epoch 69/100\n",
      "337/337 [==============================] - 0s 580us/sample - loss: 0.1036 - mae: 0.2485 - val_loss: 0.5172 - val_mae: 0.5793\n",
      "Epoch 70/100\n",
      "337/337 [==============================] - 0s 585us/sample - loss: 0.0838 - mae: 0.2176 - val_loss: 0.5257 - val_mae: 0.5804\n",
      "Epoch 71/100\n",
      "337/337 [==============================] - 0s 586us/sample - loss: 0.0766 - mae: 0.2035 - val_loss: 0.5584 - val_mae: 0.6030\n",
      "Epoch 72/100\n",
      "337/337 [==============================] - 0s 315us/sample - loss: 0.0768 - mae: 0.2050 - val_loss: 0.5460 - val_mae: 0.5938\n",
      "Epoch 73/100\n",
      "337/337 [==============================] - 0s 578us/sample - loss: 0.0828 - mae: 0.2192 - val_loss: 0.5417 - val_mae: 0.5927\n",
      "Epoch 74/100\n",
      "337/337 [==============================] - 0s 589us/sample - loss: 0.0848 - mae: 0.2253 - val_loss: 0.5731 - val_mae: 0.6151\n",
      "Epoch 75/100\n",
      "337/337 [==============================] - 0s 859us/sample - loss: 0.0763 - mae: 0.2102 - val_loss: 0.5193 - val_mae: 0.5761\n",
      "Epoch 76/100\n",
      "337/337 [==============================] - 0s 324us/sample - loss: 0.0668 - mae: 0.1872 - val_loss: 0.5579 - val_mae: 0.6022\n",
      "Epoch 77/100\n",
      "337/337 [==============================] - 0s 572us/sample - loss: 0.0664 - mae: 0.1910 - val_loss: 0.5505 - val_mae: 0.6024\n",
      "Epoch 78/100\n",
      "337/337 [==============================] - 0s 325us/sample - loss: 0.0641 - mae: 0.1858 - val_loss: 0.5581 - val_mae: 0.6035\n",
      "Epoch 79/100\n",
      "337/337 [==============================] - 0s 581us/sample - loss: 0.0584 - mae: 0.1684 - val_loss: 0.5869 - val_mae: 0.6116\n",
      "Epoch 80/100\n",
      "337/337 [==============================] - 0s 583us/sample - loss: 0.0610 - mae: 0.1782 - val_loss: 0.5984 - val_mae: 0.6274\n",
      "Epoch 81/100\n",
      "337/337 [==============================] - 0s 576us/sample - loss: 0.0621 - mae: 0.1813 - val_loss: 0.5830 - val_mae: 0.6144\n",
      "Epoch 82/100\n",
      "337/337 [==============================] - 0s 332us/sample - loss: 0.0619 - mae: 0.1830 - val_loss: 0.5892 - val_mae: 0.6180\n",
      "Epoch 83/100\n",
      "337/337 [==============================] - 0s 589us/sample - loss: 0.0625 - mae: 0.1823 - val_loss: 0.5748 - val_mae: 0.6212\n",
      "Epoch 84/100\n",
      "337/337 [==============================] - 0s 574us/sample - loss: 0.0669 - mae: 0.1963 - val_loss: 0.5530 - val_mae: 0.5938\n",
      "Epoch 85/100\n",
      "337/337 [==============================] - 0s 582us/sample - loss: 0.0675 - mae: 0.1976 - val_loss: 0.6059 - val_mae: 0.6257\n",
      "Epoch 86/100\n",
      "337/337 [==============================] - 0s 331us/sample - loss: 0.0736 - mae: 0.2050 - val_loss: 0.6004 - val_mae: 0.6161\n",
      "Epoch 87/100\n",
      "337/337 [==============================] - 0s 584us/sample - loss: 0.0662 - mae: 0.1908 - val_loss: 0.5919 - val_mae: 0.6296\n",
      "Epoch 88/100\n",
      "337/337 [==============================] - 0s 580us/sample - loss: 0.0569 - mae: 0.1699 - val_loss: 0.5584 - val_mae: 0.6054\n",
      "Epoch 89/100\n",
      "337/337 [==============================] - 0s 576us/sample - loss: 0.0510 - mae: 0.1611 - val_loss: 0.6215 - val_mae: 0.6447\n",
      "Epoch 90/100\n",
      "337/337 [==============================] - 0s 581us/sample - loss: 0.0494 - mae: 0.1559 - val_loss: 0.5487 - val_mae: 0.5949\n",
      "Epoch 91/100\n",
      "337/337 [==============================] - 0s 324us/sample - loss: 0.0477 - mae: 0.1528 - val_loss: 0.5862 - val_mae: 0.6303\n",
      "Epoch 92/100\n",
      "337/337 [==============================] - 0s 589us/sample - loss: 0.0482 - mae: 0.1527 - val_loss: 0.5978 - val_mae: 0.6295\n",
      "Epoch 93/100\n",
      "337/337 [==============================] - 0s 578us/sample - loss: 0.0446 - mae: 0.1437 - val_loss: 0.5572 - val_mae: 0.6048\n",
      "Epoch 94/100\n",
      "337/337 [==============================] - 0s 566us/sample - loss: 0.0428 - mae: 0.1385 - val_loss: 0.6125 - val_mae: 0.6491\n",
      "Epoch 95/100\n",
      "337/337 [==============================] - 0s 338us/sample - loss: 0.0420 - mae: 0.1391 - val_loss: 0.6074 - val_mae: 0.6297\n",
      "Epoch 96/100\n",
      "337/337 [==============================] - 0s 581us/sample - loss: 0.0420 - mae: 0.1367 - val_loss: 0.5904 - val_mae: 0.6225\n",
      "Epoch 97/100\n",
      "337/337 [==============================] - 0s 584us/sample - loss: 0.0380 - mae: 0.1274 - val_loss: 0.6225 - val_mae: 0.6504\n",
      "Epoch 98/100\n",
      "337/337 [==============================] - 0s 312us/sample - loss: 0.0400 - mae: 0.1381 - val_loss: 0.6297 - val_mae: 0.6591\n",
      "Epoch 99/100\n",
      "337/337 [==============================] - 0s 588us/sample - loss: 0.0469 - mae: 0.1565 - val_loss: 0.5772 - val_mae: 0.6086\n",
      "Epoch 100/100\n",
      "337/337 [==============================] - 0s 583us/sample - loss: 0.0467 - mae: 0.1595 - val_loss: 0.6097 - val_mae: 0.6594\n"
     ]
    }
   ],
   "source": [
    "# Train the model, with some of the data reserved for validation\n",
    "\n",
    "history = model.fit(\n",
    "    train_data,\n",
    "    train_targets,\n",
    "    epochs=100,\n",
    "    validation_split=0.15,\n",
    "    batch_size=64,\n",
    "    # verbose=False,\n",
    ")"
   ]
  },
  {
   "cell_type": "code",
   "execution_count": 14,
   "metadata": {},
   "outputs": [
    {
     "name": "stdout",
     "output_type": "stream",
     "text": [
      "45/1 - 0s - loss: 1.0736 - mae: 0.7395\n"
     ]
    },
    {
     "data": {
      "text/plain": [
       "[0.9586547162797716, 0.7395352]"
      ]
     },
     "execution_count": 14,
     "metadata": {},
     "output_type": "execute_result"
    }
   ],
   "source": [
    "# Evaluate the model on the test set\n",
    "\n",
    "model.evaluate(test_data, test_targets, verbose=2)"
   ]
  },
  {
   "cell_type": "markdown",
   "metadata": {},
   "source": [
    "#### Plot the learning curves"
   ]
  },
  {
   "cell_type": "code",
   "execution_count": 15,
   "metadata": {},
   "outputs": [],
   "source": [
    "import matplotlib.pyplot as plt\n",
    "%matplotlib inline"
   ]
  },
  {
   "cell_type": "code",
   "execution_count": 16,
   "metadata": {},
   "outputs": [
    {
     "data": {
      "image/png": "[encoded data removed]",
      "text/plain": [
       "<Figure size 432x288 with 1 Axes>"
      ]
     },
     "metadata": {
      "needs_background": "light"
     },
     "output_type": "display_data"
    }
   ],
   "source": [
    "# Plot the training and validation loss\n",
    "\n",
    "plt.plot(history.history['loss'])\n",
    "plt.plot(history.history['val_loss'])\n",
    "plt.title('Loss vs. epochs')\n",
    "plt.ylabel('Loss')\n",
    "plt.xlabel('Epoch')\n",
    "plt.legend(['Training', 'Validat ion'], loc='upper right')\n",
    "plt.show()"
   ]
  },
  {
   "cell_type": "markdown",
   "metadata": {},
   "source": [
    "***\n",
    "<a id=\"coding_tutorial_2\"></a>\n",
    "## Model regularisation"
   ]
  },
  {
   "cell_type": "markdown",
   "metadata": {},
   "source": [
    "#### Adding regularisation with weight decay and dropout"
   ]
  },
  {
   "cell_type": "code",
   "execution_count": 32,
   "metadata": {},
   "outputs": [],
   "source": [
    "from tensorflow.keras.models import Sequential\n",
    "from tensorflow.keras.layers import Dropout, Dense\n",
    "from tensorflow.keras import regularizers"
   ]
  },
  {
   "cell_type": "code",
   "execution_count": 47,
   "metadata": {},
   "outputs": [],
   "source": [
    "def get_regularised_model(wd, rate):\n",
    "    model = Sequential([\n",
    "        Dense(128, activation=\"relu\", kernel_regularizer=regularizers.l2(wd), input_shape=(train_data.shape[1],)),\n",
    "        Dropout(rate),\n",
    "        Dense(128, activation=\"relu\", kernel_regularizer=regularizers.l2(wd),),\n",
    "        Dropout(rate),\n",
    "        Dense(128, activation=\"relu\", kernel_regularizer=regularizers.l2(wd),),\n",
    "        Dropout(rate),\n",
    "        Dense(128, activation=\"relu\", kernel_regularizer=regularizers.l2(wd),),\n",
    "        Dropout(rate),\n",
    "        Dense(128, activation=\"relu\", kernel_regularizer=regularizers.l2(wd),),\n",
    "        Dropout(rate),\n",
    "        Dense(128, activation=\"relu\", kernel_regularizer=regularizers.l2(wd),),\n",
    "        Dropout(rate),\n",
    "        Dense(1)\n",
    "    ])\n",
    "    return model"
   ]
  },
  {
   "cell_type": "code",
   "execution_count": 14,
   "metadata": {},
   "outputs": [],
   "source": [
    "# Re-build the model with weight decay and dropout layers\n",
    "model = get_regularised_model(1e-5, 0.3)\n"
   ]
  },
  {
   "cell_type": "code",
   "execution_count": 15,
   "metadata": {},
   "outputs": [],
   "source": [
    "# Compile the model\n",
    "\n",
    "model.compile(optimizers=\"adam\", loss=\"mse\", metrics=[\"mae\"])"
   ]
  },
  {
   "cell_type": "code",
   "execution_count": 17,
   "metadata": {},
   "outputs": [
    {
     "name": "stdout",
     "output_type": "stream",
     "text": [
      "Train on 337 samples, validate on 60 samples\n",
      "Epoch 1/100\n",
      "337/337 [==============================] - 0s 261us/sample - loss: 0.3822 - mae: 0.4916 - val_loss: 0.5708 - val_mae: 0.5833\n",
      "Epoch 2/100\n",
      "337/337 [==============================] - 0s 298us/sample - loss: 0.3846 - mae: 0.4941 - val_loss: 0.5107 - val_mae: 0.5437\n",
      "Epoch 3/100\n",
      "337/337 [==============================] - 0s 534us/sample - loss: 0.3889 - mae: 0.4914 - val_loss: 0.4912 - val_mae: 0.5407\n",
      "Epoch 4/100\n",
      "337/337 [==============================] - 0s 323us/sample - loss: 0.3877 - mae: 0.4860 - val_loss: 0.5175 - val_mae: 0.5654\n",
      "Epoch 5/100\n",
      "337/337 [==============================] - 0s 296us/sample - loss: 0.3912 - mae: 0.4944 - val_loss: 0.5720 - val_mae: 0.5827\n",
      "Epoch 6/100\n",
      "337/337 [==============================] - 0s 311us/sample - loss: 0.3829 - mae: 0.4827 - val_loss: 0.5587 - val_mae: 0.5964\n",
      "Epoch 7/100\n",
      "337/337 [==============================] - 0s 307us/sample - loss: 0.3948 - mae: 0.4900 - val_loss: 0.5495 - val_mae: 0.5611\n",
      "Epoch 8/100\n",
      "337/337 [==============================] - 0s 296us/sample - loss: 0.3612 - mae: 0.4691 - val_loss: 0.5002 - val_mae: 0.5584\n",
      "Epoch 9/100\n",
      "337/337 [==============================] - 0s 539us/sample - loss: 0.3850 - mae: 0.4956 - val_loss: 0.6572 - val_mae: 0.6032\n",
      "Epoch 10/100\n",
      "337/337 [==============================] - 0s 311us/sample - loss: 0.3725 - mae: 0.4793 - val_loss: 0.4964 - val_mae: 0.5556\n",
      "Epoch 11/100\n",
      "337/337 [==============================] - 0s 294us/sample - loss: 0.3513 - mae: 0.4651 - val_loss: 0.5721 - val_mae: 0.5922\n",
      "Epoch 12/100\n",
      "337/337 [==============================] - 0s 305us/sample - loss: 0.4375 - mae: 0.5329 - val_loss: 0.5107 - val_mae: 0.5682\n",
      "Epoch 13/100\n",
      "337/337 [==============================] - 0s 298us/sample - loss: 0.3713 - mae: 0.4828 - val_loss: 0.5663 - val_mae: 0.5659\n",
      "Epoch 14/100\n",
      "337/337 [==============================] - 0s 302us/sample - loss: 0.3548 - mae: 0.4639 - val_loss: 0.5780 - val_mae: 0.6086\n",
      "Epoch 15/100\n",
      "337/337 [==============================] - 0s 294us/sample - loss: 0.3998 - mae: 0.5012 - val_loss: 0.5617 - val_mae: 0.5672\n",
      "Epoch 16/100\n",
      "337/337 [==============================] - 0s 308us/sample - loss: 0.3565 - mae: 0.4613 - val_loss: 0.5810 - val_mae: 0.5743\n",
      "Epoch 17/100\n",
      "337/337 [==============================] - 0s 301us/sample - loss: 0.3675 - mae: 0.4786 - val_loss: 0.5177 - val_mae: 0.5613\n",
      "Epoch 18/100\n",
      "337/337 [==============================] - 0s 535us/sample - loss: 0.3622 - mae: 0.4777 - val_loss: 0.5458 - val_mae: 0.5745\n",
      "Epoch 19/100\n",
      "337/337 [==============================] - 0s 320us/sample - loss: 0.3923 - mae: 0.4878 - val_loss: 0.5678 - val_mae: 0.5725\n",
      "Epoch 20/100\n",
      "337/337 [==============================] - 0s 294us/sample - loss: 0.3521 - mae: 0.4618 - val_loss: 0.5749 - val_mae: 0.5863\n",
      "Epoch 21/100\n",
      "337/337 [==============================] - 0s 299us/sample - loss: 0.3873 - mae: 0.4896 - val_loss: 0.6008 - val_mae: 0.6234\n",
      "Epoch 22/100\n",
      "337/337 [==============================] - 0s 303us/sample - loss: 0.3806 - mae: 0.4922 - val_loss: 0.5730 - val_mae: 0.5659\n",
      "Epoch 23/100\n",
      "337/337 [==============================] - 0s 304us/sample - loss: 0.3356 - mae: 0.4559 - val_loss: 0.5923 - val_mae: 0.6206\n",
      "Epoch 24/100\n",
      "337/337 [==============================] - 0s 300us/sample - loss: 0.3989 - mae: 0.5015 - val_loss: 0.5468 - val_mae: 0.5646\n",
      "Epoch 25/100\n",
      "337/337 [==============================] - 0s 290us/sample - loss: 0.3953 - mae: 0.4917 - val_loss: 0.5257 - val_mae: 0.5614\n",
      "Epoch 26/100\n",
      "337/337 [==============================] - 0s 301us/sample - loss: 0.3550 - mae: 0.4718 - val_loss: 0.5692 - val_mae: 0.5791\n",
      "Epoch 27/100\n",
      "337/337 [==============================] - 0s 295us/sample - loss: 0.3577 - mae: 0.4656 - val_loss: 0.5078 - val_mae: 0.5448\n",
      "Epoch 28/100\n",
      "337/337 [==============================] - 0s 290us/sample - loss: 0.3748 - mae: 0.4849 - val_loss: 0.5321 - val_mae: 0.5656\n",
      "Epoch 29/100\n",
      "337/337 [==============================] - 0s 294us/sample - loss: 0.3451 - mae: 0.4649 - val_loss: 0.5336 - val_mae: 0.5897\n",
      "Epoch 30/100\n",
      "337/337 [==============================] - 0s 298us/sample - loss: 0.3793 - mae: 0.4959 - val_loss: 0.5592 - val_mae: 0.5647\n",
      "Epoch 31/100\n",
      "337/337 [==============================] - 0s 293us/sample - loss: 0.3873 - mae: 0.4857 - val_loss: 0.5327 - val_mae: 0.5632\n",
      "Epoch 32/100\n",
      "337/337 [==============================] - 0s 539us/sample - loss: 0.3359 - mae: 0.4607 - val_loss: 0.6228 - val_mae: 0.5831\n",
      "Epoch 33/100\n",
      "337/337 [==============================] - 0s 300us/sample - loss: 0.3575 - mae: 0.4584 - val_loss: 0.5251 - val_mae: 0.5450\n",
      "Epoch 34/100\n",
      "337/337 [==============================] - 0s 290us/sample - loss: 0.3564 - mae: 0.4712 - val_loss: 0.5766 - val_mae: 0.5908\n",
      "Epoch 35/100\n",
      "337/337 [==============================] - 0s 62us/sample - loss: 0.3276 - mae: 0.4423 - val_loss: 0.5157 - val_mae: 0.5487\n",
      "Epoch 36/100\n",
      "337/337 [==============================] - 0s 291us/sample - loss: 0.3631 - mae: 0.4669 - val_loss: 0.5131 - val_mae: 0.5692\n",
      "Epoch 37/100\n",
      "337/337 [==============================] - 0s 299us/sample - loss: 0.3595 - mae: 0.4724 - val_loss: 0.6113 - val_mae: 0.6154\n",
      "Epoch 38/100\n",
      "337/337 [==============================] - 0s 314us/sample - loss: 0.3567 - mae: 0.4746 - val_loss: 0.4828 - val_mae: 0.5315\n",
      "Epoch 39/100\n",
      "337/337 [==============================] - 0s 297us/sample - loss: 0.3464 - mae: 0.4621 - val_loss: 0.5422 - val_mae: 0.5594\n",
      "Epoch 40/100\n",
      "337/337 [==============================] - 0s 309us/sample - loss: 0.3424 - mae: 0.4542 - val_loss: 0.5291 - val_mae: 0.5761\n",
      "Epoch 41/100\n",
      "337/337 [==============================] - 0s 312us/sample - loss: 0.4032 - mae: 0.4956 - val_loss: 0.5392 - val_mae: 0.5601\n",
      "Epoch 42/100\n",
      "337/337 [==============================] - 0s 299us/sample - loss: 0.3447 - mae: 0.4614 - val_loss: 0.5643 - val_mae: 0.5673\n",
      "Epoch 43/100\n",
      "337/337 [==============================] - 0s 308us/sample - loss: 0.3519 - mae: 0.4588 - val_loss: 0.5425 - val_mae: 0.5677\n",
      "Epoch 44/100\n",
      "337/337 [==============================] - 0s 310us/sample - loss: 0.3272 - mae: 0.4525 - val_loss: 0.5956 - val_mae: 0.5943\n",
      "Epoch 45/100\n",
      "337/337 [==============================] - 0s 305us/sample - loss: 0.3288 - mae: 0.4517 - val_loss: 0.6336 - val_mae: 0.5996\n",
      "Epoch 46/100\n",
      "337/337 [==============================] - 0s 314us/sample - loss: 0.3267 - mae: 0.4441 - val_loss: 0.5766 - val_mae: 0.5634\n",
      "Epoch 47/100\n",
      "337/337 [==============================] - 0s 304us/sample - loss: 0.3658 - mae: 0.4668 - val_loss: 0.5596 - val_mae: 0.5903\n",
      "Epoch 48/100\n",
      "337/337 [==============================] - 0s 548us/sample - loss: 0.3488 - mae: 0.4719 - val_loss: 0.5220 - val_mae: 0.5476\n",
      "Epoch 49/100\n",
      "337/337 [==============================] - 0s 312us/sample - loss: 0.3350 - mae: 0.4557 - val_loss: 0.5765 - val_mae: 0.5765\n",
      "Epoch 50/100\n",
      "337/337 [==============================] - 0s 315us/sample - loss: 0.3592 - mae: 0.4694 - val_loss: 0.5454 - val_mae: 0.5700\n",
      "Epoch 51/100\n",
      "337/337 [==============================] - 0s 297us/sample - loss: 0.3336 - mae: 0.4518 - val_loss: 0.5542 - val_mae: 0.5757\n",
      "Epoch 52/100\n",
      "337/337 [==============================] - 0s 328us/sample - loss: 0.3605 - mae: 0.4740 - val_loss: 0.6582 - val_mae: 0.6416\n",
      "Epoch 53/100\n",
      "337/337 [==============================] - 0s 300us/sample - loss: 0.4218 - mae: 0.5049 - val_loss: 0.5995 - val_mae: 0.5943\n",
      "Epoch 54/100\n",
      "337/337 [==============================] - 0s 324us/sample - loss: 0.3640 - mae: 0.4702 - val_loss: 0.5108 - val_mae: 0.5388\n",
      "Epoch 55/100\n",
      "337/337 [==============================] - 0s 299us/sample - loss: 0.3390 - mae: 0.4629 - val_loss: 0.5064 - val_mae: 0.5388\n",
      "Epoch 56/100\n",
      "337/337 [==============================] - 0s 529us/sample - loss: 0.3227 - mae: 0.4464 - val_loss: 0.5831 - val_mae: 0.6023\n",
      "Epoch 57/100\n",
      "337/337 [==============================] - 0s 311us/sample - loss: 0.3325 - mae: 0.4619 - val_loss: 0.4801 - val_mae: 0.5337\n",
      "Epoch 58/100\n",
      "337/337 [==============================] - 0s 294us/sample - loss: 0.3246 - mae: 0.4521 - val_loss: 0.5241 - val_mae: 0.5521\n",
      "Epoch 59/100\n",
      "337/337 [==============================] - 0s 306us/sample - loss: 0.3294 - mae: 0.4554 - val_loss: 0.6243 - val_mae: 0.5930\n",
      "Epoch 60/100\n",
      "337/337 [==============================] - 0s 309us/sample - loss: 0.3323 - mae: 0.4524 - val_loss: 0.6600 - val_mae: 0.6198\n",
      "Epoch 61/100\n",
      "337/337 [==============================] - 0s 307us/sample - loss: 0.3178 - mae: 0.4398 - val_loss: 0.5340 - val_mae: 0.5435\n",
      "Epoch 62/100\n",
      "337/337 [==============================] - 0s 291us/sample - loss: 0.3160 - mae: 0.4330 - val_loss: 0.5896 - val_mae: 0.6133\n",
      "Epoch 63/100\n",
      "337/337 [==============================] - 0s 302us/sample - loss: 0.3394 - mae: 0.4492 - val_loss: 0.5460 - val_mae: 0.5700\n",
      "Epoch 64/100\n",
      "337/337 [==============================] - 0s 64us/sample - loss: 0.3327 - mae: 0.4597 - val_loss: 0.5127 - val_mae: 0.5535\n",
      "Epoch 65/100\n",
      "337/337 [==============================] - 0s 530us/sample - loss: 0.3146 - mae: 0.4377 - val_loss: 0.5605 - val_mae: 0.5821\n",
      "Epoch 66/100\n",
      "337/337 [==============================] - 0s 301us/sample - loss: 0.3460 - mae: 0.4657 - val_loss: 0.5470 - val_mae: 0.5617\n",
      "Epoch 67/100\n",
      "337/337 [==============================] - 0s 302us/sample - loss: 0.3314 - mae: 0.4475 - val_loss: 0.5490 - val_mae: 0.5629\n",
      "Epoch 68/100\n",
      "337/337 [==============================] - 0s 291us/sample - loss: 0.3056 - mae: 0.4299 - val_loss: 0.4918 - val_mae: 0.5493\n",
      "Epoch 69/100\n",
      "337/337 [==============================] - 0s 291us/sample - loss: 0.3320 - mae: 0.4619 - val_loss: 0.5891 - val_mae: 0.5704\n",
      "Epoch 70/100\n",
      "337/337 [==============================] - 0s 302us/sample - loss: 0.3390 - mae: 0.4586 - val_loss: 0.5756 - val_mae: 0.5759\n",
      "Epoch 71/100\n",
      "337/337 [==============================] - 0s 300us/sample - loss: 0.3483 - mae: 0.4638 - val_loss: 0.5681 - val_mae: 0.5811\n",
      "Epoch 72/100\n",
      "337/337 [==============================] - 0s 289us/sample - loss: 0.3207 - mae: 0.4502 - val_loss: 0.5253 - val_mae: 0.5500\n",
      "Epoch 73/100\n",
      "337/337 [==============================] - 0s 304us/sample - loss: 0.3191 - mae: 0.4357 - val_loss: 0.5777 - val_mae: 0.5741\n",
      "Epoch 74/100\n",
      "337/337 [==============================] - 0s 314us/sample - loss: 0.2999 - mae: 0.4359 - val_loss: 0.5573 - val_mae: 0.5646\n",
      "Epoch 75/100\n",
      "337/337 [==============================] - 0s 300us/sample - loss: 0.3114 - mae: 0.4444 - val_loss: 0.6391 - val_mae: 0.6041\n",
      "Epoch 76/100\n",
      "337/337 [==============================] - 0s 299us/sample - loss: 0.3189 - mae: 0.4338 - val_loss: 0.5892 - val_mae: 0.5815\n",
      "Epoch 77/100\n",
      "337/337 [==============================] - 0s 301us/sample - loss: 0.3177 - mae: 0.4464 - val_loss: 0.4993 - val_mae: 0.5292\n",
      "Epoch 78/100\n",
      "337/337 [==============================] - 0s 299us/sample - loss: 0.2779 - mae: 0.4147 - val_loss: 0.6801 - val_mae: 0.6168\n",
      "Epoch 79/100\n",
      "337/337 [==============================] - 0s 293us/sample - loss: 0.3025 - mae: 0.4246 - val_loss: 0.6563 - val_mae: 0.5862\n",
      "Epoch 80/100\n",
      "337/337 [==============================] - 0s 300us/sample - loss: 0.3847 - mae: 0.4821 - val_loss: 0.5631 - val_mae: 0.5663\n",
      "Epoch 81/100\n",
      "337/337 [==============================] - 0s 291us/sample - loss: 0.3109 - mae: 0.4327 - val_loss: 0.5117 - val_mae: 0.5469\n",
      "Epoch 82/100\n",
      "337/337 [==============================] - 0s 528us/sample - loss: 0.3132 - mae: 0.4363 - val_loss: 0.5945 - val_mae: 0.6114\n",
      "Epoch 83/100\n",
      "337/337 [==============================] - 0s 304us/sample - loss: 0.3078 - mae: 0.4314 - val_loss: 0.5931 - val_mae: 0.5993\n",
      "Epoch 84/100\n",
      "337/337 [==============================] - 0s 288us/sample - loss: 0.3170 - mae: 0.4422 - val_loss: 0.5455 - val_mae: 0.5652\n",
      "Epoch 85/100\n",
      "337/337 [==============================] - 0s 301us/sample - loss: 0.3252 - mae: 0.4570 - val_loss: 0.5341 - val_mae: 0.5482\n",
      "Epoch 86/100\n",
      "337/337 [==============================] - 0s 306us/sample - loss: 0.3055 - mae: 0.4386 - val_loss: 0.5992 - val_mae: 0.5724\n",
      "Epoch 87/100\n",
      "337/337 [==============================] - 0s 281us/sample - loss: 0.3273 - mae: 0.4508 - val_loss: 0.5805 - val_mae: 0.5847\n",
      "Epoch 88/100\n",
      "337/337 [==============================] - 0s 308us/sample - loss: 0.3586 - mae: 0.4663 - val_loss: 0.4655 - val_mae: 0.5251\n",
      "Epoch 89/100\n",
      "337/337 [==============================] - 0s 293us/sample - loss: 0.2892 - mae: 0.4276 - val_loss: 0.5940 - val_mae: 0.5672\n",
      "Epoch 90/100\n",
      "337/337 [==============================] - 0s 295us/sample - loss: 0.3082 - mae: 0.4319 - val_loss: 0.5031 - val_mae: 0.5431\n",
      "Epoch 91/100\n",
      "337/337 [==============================] - 0s 295us/sample - loss: 0.2712 - mae: 0.4040 - val_loss: 0.4741 - val_mae: 0.5395\n",
      "Epoch 92/100\n",
      "337/337 [==============================] - 0s 300us/sample - loss: 0.3349 - mae: 0.4501 - val_loss: 0.5222 - val_mae: 0.5756\n",
      "Epoch 93/100\n",
      "337/337 [==============================] - 0s 296us/sample - loss: 0.3437 - mae: 0.4513 - val_loss: 0.5579 - val_mae: 0.5881\n",
      "Epoch 94/100\n",
      "337/337 [==============================] - 0s 313us/sample - loss: 0.2895 - mae: 0.4252 - val_loss: 0.5430 - val_mae: 0.5731\n",
      "Epoch 95/100\n",
      "337/337 [==============================] - 0s 297us/sample - loss: 0.3386 - mae: 0.4533 - val_loss: 0.5230 - val_mae: 0.5753\n",
      "Epoch 96/100\n",
      "337/337 [==============================] - 0s 308us/sample - loss: 0.2951 - mae: 0.4218 - val_loss: 0.5356 - val_mae: 0.5460\n",
      "Epoch 97/100\n",
      "337/337 [==============================] - 0s 294us/sample - loss: 0.2698 - mae: 0.4130 - val_loss: 0.5664 - val_mae: 0.5755\n",
      "Epoch 98/100\n",
      "337/337 [==============================] - 0s 294us/sample - loss: 0.2962 - mae: 0.4255 - val_loss: 0.5571 - val_mae: 0.5545\n",
      "Epoch 99/100\n",
      "337/337 [==============================] - 0s 66us/sample - loss: 0.3193 - mae: 0.4438 - val_loss: 0.5519 - val_mae: 0.5706\n",
      "Epoch 100/100\n",
      "337/337 [==============================] - 0s 298us/sample - loss: 0.3185 - mae: 0.4424 - val_loss: 0.5847 - val_mae: 0.5816\n"
     ]
    }
   ],
   "source": [
    "# Train the model, with some of the data reserved for validation\n",
    "\n",
    "history = model.fit(\n",
    "    train_data,\n",
    "    train_targets,\n",
    "    epochs=100,\n",
    "    validation_split=0.15,\n",
    "    batch_size=64,\n",
    ")"
   ]
  },
  {
   "cell_type": "code",
   "execution_count": 19,
   "metadata": {},
   "outputs": [
    {
     "name": "stdout",
     "output_type": "stream",
     "text": [
      "45/1 - 0s - loss: 0.3798 - mae: 0.5600\n"
     ]
    },
    {
     "data": {
      "text/plain": [
       "[0.5405561327934265, 0.5599834]"
      ]
     },
     "execution_count": 19,
     "metadata": {},
     "output_type": "execute_result"
    }
   ],
   "source": [
    "# Evaluate the model on the test set\n",
    "\n",
    "model.evaluate(test_data, test_targets, verbose=2)"
   ]
  },
  {
   "cell_type": "markdown",
   "metadata": {},
   "source": [
    "#### Plot the learning curves"
   ]
  },
  {
   "cell_type": "code",
   "execution_count": 21,
   "metadata": {},
   "outputs": [
    {
     "data": {
      "image/png": "[encoded data removed]",
      "text/plain": [
       "<Figure size 432x288 with 1 Axes>"
      ]
     },
     "metadata": {
      "needs_background": "light"
     },
     "output_type": "display_data"
    }
   ],
   "source": [
    "# Plot the training and validation loss\n",
    "\n",
    "import matplotlib.pyplot as plt\n",
    "\n",
    "plt.plot(history.history['loss'])\n",
    "plt.plot(history.history['val_loss'])\n",
    "plt.title('Loss vs. epochs')\n",
    "plt.ylabel('Loss')\n",
    "plt.xlabel('Epoch')\n",
    "plt.legend(['Training', 'Validation'], loc='upper right')\n",
    "plt.show()"
   ]
  },
  {
   "cell_type": "markdown",
   "metadata": {},
   "source": [
    "***\n",
    "<a id=\"coding_tutorial_3\"></a>\n",
    "## Introduction to callbacks"
   ]
  },
  {
   "cell_type": "markdown",
   "metadata": {},
   "source": [
    "#### Example training callback"
   ]
  },
  {
   "cell_type": "code",
   "execution_count": 35,
   "metadata": {},
   "outputs": [],
   "source": [
    "# Write a custom callback\n",
    "\n",
    "from tensorflow.keras.callbacks import Callback\n",
    "\n",
    "\n",
    "class TrainingCallback(Callback):\n",
    "    \n",
    "    def on_train_begin(self, logs=None):\n",
    "        print(\"Starting Training....\")\n",
    "        \n",
    "    def on_epoch_begin(self, epoch, logs=None):\n",
    "        print(f\"Starting epoch {epoch}\")\n",
    "        \n",
    "    def on_train_batch_begin(self, batch, logs=None):\n",
    "        print(f\"Training Starting batch {batch}\")\n",
    "        \n",
    "    def on_train_batch_end(self, batch, logs=None):\n",
    "        print(f\"Training Finished batch {batch}\")\n",
    "        \n",
    "    def on_epoch_end(self, epoch, logs=None):\n",
    "        print(f\"Finished epoch {epoch}\")\n",
    "        \n",
    "    def on_train_end(self, logs=None):\n",
    "        print(\"Finished Training....\")\n",
    "\n",
    "        \n",
    "class TestingCallback(Callback):\n",
    "    \n",
    "    def on_test_begin(self, logs=None):\n",
    "        print(\"Starting testing....\")\n",
    "        \n",
    "    def on_test_batch_begin(self, batch, logs=None):\n",
    "        print(f\"Testing Starting batch {batch}\")\n",
    "        \n",
    "    def on_test_batch_end(self, batch, logs=None):\n",
    "        print(f\"Testing Finished batch {batch}\")\n",
    "        \n",
    "    def on_test_end(self, logs=None):\n",
    "        print(\"Finished Testing....\")\n",
    "        \n",
    "class PredictionCallback(Callback):\n",
    "    \n",
    "    def on_predict_begin(self, logs=None):\n",
    "        print(\"Starting prediction....\")\n",
    "        \n",
    "    def on_predict_batch_begin(self, batch, logs=None):\n",
    "        print(f\"Prediction Starting batch {batch}\")\n",
    "        \n",
    "    def on_predict_batch_end(self, batch, logs=None):\n",
    "        print(f\"Prediction Finished batch {batch}\")\n",
    "        \n",
    "    def on_predict_end(self, logs=None):\n",
    "        print(\"Finished prediction....\")\n"
   ]
  },
  {
   "cell_type": "code",
   "execution_count": 11,
   "metadata": {},
   "outputs": [],
   "source": [
    "# Re-build the model\n",
    "\n",
    "model = get_regularised_model(1e-5, 0.3)\n"
   ]
  },
  {
   "cell_type": "code",
   "execution_count": 14,
   "metadata": {},
   "outputs": [],
   "source": [
    "# Compile the model\n",
    "\n",
    "model.compile(optimizers=\"adam\", loss=\"mse\", metrics=[\"mse\"])"
   ]
  },
  {
   "cell_type": "markdown",
   "metadata": {},
   "source": [
    "#### Train the model with the callback"
   ]
  },
  {
   "cell_type": "code",
   "execution_count": 19,
   "metadata": {},
   "outputs": [
    {
     "name": "stdout",
     "output_type": "stream",
     "text": [
      "Starting Training....\n",
      "Starting epoch 0\n",
      "Training Starting batch 0\n",
      "Training Finished batch 0\n",
      "Training Starting batch 1\n",
      "Training Finished batch 1\n",
      "Training Starting batch 2\n",
      "Training Finished batch 2\n",
      "Training Starting batch 3\n",
      "Training Finished batch 3\n",
      "Finished epoch 0\n",
      "Starting epoch 1\n",
      "Training Starting batch 0\n",
      "Training Finished batch 0\n",
      "Training Starting batch 1\n",
      "Training Finished batch 1\n",
      "Training Starting batch 2\n",
      "Training Finished batch 2\n",
      "Training Starting batch 3\n",
      "Training Finished batch 3\n",
      "Finished epoch 1\n",
      "Starting epoch 2\n",
      "Training Starting batch 0\n",
      "Training Finished batch 0\n",
      "Training Starting batch 1\n",
      "Training Finished batch 1\n",
      "Training Starting batch 2\n",
      "Training Finished batch 2\n",
      "Training Starting batch 3\n",
      "Training Finished batch 3\n",
      "Finished epoch 2\n",
      "Finished Training....\n"
     ]
    },
    {
     "data": {
      "text/plain": [
       "<tensorflow.python.keras.callbacks.History at 0x7f0d786fd5f8>"
      ]
     },
     "execution_count": 19,
     "metadata": {},
     "output_type": "execute_result"
    }
   ],
   "source": [
    "# Train the model, with some of the data reserved for validation\n",
    "\n",
    "model.fit(\n",
    "    train_data,\n",
    "    train_targets,\n",
    "    epochs=3,\n",
    "    batch_size=128,\n",
    "    verbose=False,\n",
    "    callbacks=[TrainingCallback(), ]\n",
    ")"
   ]
  },
  {
   "cell_type": "code",
   "execution_count": 24,
   "metadata": {},
   "outputs": [
    {
     "name": "stdout",
     "output_type": "stream",
     "text": [
      "Starting testing....\n",
      "Testing Starting batch 0\n",
      "Testing Finished batch 0\n",
      "Testing Starting batch 1\n",
      "Testing Finished batch 1\n",
      "Finished Testing....\n"
     ]
    },
    {
     "data": {
      "text/plain": [
       "[0.5587131751908196, 0.55213904]"
      ]
     },
     "execution_count": 24,
     "metadata": {},
     "output_type": "execute_result"
    }
   ],
   "source": [
    "# Evaluate the model\n",
    "\n",
    "model.evaluate(\n",
    "    test_data,\n",
    "    test_targets,\n",
    "    verbose=False,\n",
    "    callbacks=[TestingCallback(), ]\n",
    ")"
   ]
  },
  {
   "cell_type": "code",
   "execution_count": 27,
   "metadata": {},
   "outputs": [
    {
     "name": "stdout",
     "output_type": "stream",
     "text": [
      "Starting prediction....\n",
      "Prediction Starting batch 0\n",
      "Prediction Finished batch 0\n",
      "Prediction Starting batch 1\n",
      "Prediction Finished batch 1\n",
      "Finished prediction....\n"
     ]
    },
    {
     "data": {
      "text/plain": [
       "array([[ 0.90195006],\n",
       "       [-0.7805037 ],\n",
       "       [ 1.1069028 ],\n",
       "       [-0.6572174 ],\n",
       "       [ 0.69839203],\n",
       "       [-0.83751243],\n",
       "       [-0.72736734],\n",
       "       [ 0.6161137 ],\n",
       "       [ 0.09845769],\n",
       "       [ 0.23246922],\n",
       "       [-0.41916573],\n",
       "       [ 0.9593134 ],\n",
       "       [ 0.5897119 ],\n",
       "       [-0.8240912 ],\n",
       "       [ 0.5324591 ],\n",
       "       [ 1.0767124 ],\n",
       "       [-0.9435827 ],\n",
       "       [ 0.63784665],\n",
       "       [-0.9523191 ],\n",
       "       [ 0.5960402 ],\n",
       "       [-0.4973492 ],\n",
       "       [-0.81486857],\n",
       "       [-0.5949389 ],\n",
       "       [-0.6397766 ],\n",
       "       [ 0.7116452 ],\n",
       "       [-0.5245146 ],\n",
       "       [ 0.88497907],\n",
       "       [-0.79235864],\n",
       "       [ 0.6375318 ],\n",
       "       [-0.62757087],\n",
       "       [-0.09104794],\n",
       "       [ 0.5658635 ],\n",
       "       [-0.6564881 ],\n",
       "       [-0.65992194],\n",
       "       [ 0.7080824 ],\n",
       "       [-0.29836646],\n",
       "       [-0.78468   ],\n",
       "       [-0.69467205],\n",
       "       [-0.6079099 ],\n",
       "       [ 0.82209957],\n",
       "       [-0.8413172 ],\n",
       "       [-0.4101213 ],\n",
       "       [-0.48453113],\n",
       "       [-0.74157757],\n",
       "       [-0.6005848 ]], dtype=float32)"
      ]
     },
     "execution_count": 27,
     "metadata": {},
     "output_type": "execute_result"
    }
   ],
   "source": [
    "# Make predictions with the model\n",
    "\n",
    "model.predict(\n",
    "    test_data,\n",
    "    verbose=False,\n",
    "    callbacks=[PredictionCallback(), ]\n",
    ")"
   ]
  },
  {
   "cell_type": "markdown",
   "metadata": {},
   "source": [
    "***\n",
    "<a id=\"coding_tutorial_4\"></a>\n",
    "## Early stopping / patience"
   ]
  },
  {
   "cell_type": "markdown",
   "metadata": {},
   "source": [
    "#### Re-train the models with early stopping"
   ]
  },
  {
   "cell_type": "code",
   "execution_count": 60,
   "metadata": {},
   "outputs": [],
   "source": [
    "# Re-train the unregularised model\n",
    "import tensorflow\n",
    "\n",
    "unregularised_model = get_model()\n",
    "unregularised_model.compile(\n",
    "    optimizers=\"adam\",\n",
    "    loss=\"mse\",\n",
    ")\n",
    "unregularised_history = unregularised_model.fit(\n",
    "    train_data,\n",
    "    train_targets,\n",
    "    epochs=100,\n",
    "    validation_split=0.15,\n",
    "    batch_size=64,\n",
    "    verbose=False,\n",
    "    callbacks=[\n",
    "        tensorflow.keras.callbacks.EarlyStopping(\n",
    "            patience=2\n",
    "        )\n",
    "    ]\n",
    ")"
   ]
  },
  {
   "cell_type": "code",
   "execution_count": 61,
   "metadata": {},
   "outputs": [
    {
     "name": "stdout",
     "output_type": "stream",
     "text": [
      "45/1 - 0s - loss: 0.5740\n"
     ]
    },
    {
     "data": {
      "text/plain": [
       "0.6633325331740909"
      ]
     },
     "execution_count": 61,
     "metadata": {},
     "output_type": "execute_result"
    }
   ],
   "source": [
    "# Evaluate the model on the test set\n",
    "\n",
    "unregularised_model.evaluate(\n",
    "    test_data,\n",
    "    test_targets,\n",
    "    verbose=2\n",
    ")"
   ]
  },
  {
   "cell_type": "code",
   "execution_count": 62,
   "metadata": {},
   "outputs": [],
   "source": [
    "# Re-train the regularised model\n",
    "\n",
    "# Re-train the unregularised model\n",
    "import tensorflow\n",
    "\n",
    "regularised_model = get_regularised_model(\n",
    "    1e-8, 0.2\n",
    ")\n",
    "regularised_model.compile(\n",
    "    optimizers=\"adam\",\n",
    "    loss=\"mse\",\n",
    ")\n",
    "regularised_history = regularised_model.fit(\n",
    "    train_data,\n",
    "    train_targets,\n",
    "    epochs=100,\n",
    "    validation_split=0.15,\n",
    "    batch_size=64,\n",
    "    verbose=False,\n",
    "    callbacks=[\n",
    "        tensorflow.keras.callbacks.EarlyStopping(\n",
    "            patience=2\n",
    "        )\n",
    "    ]\n",
    ")"
   ]
  },
  {
   "cell_type": "code",
   "execution_count": 63,
   "metadata": {},
   "outputs": [
    {
     "name": "stdout",
     "output_type": "stream",
     "text": [
      "45/1 - 0s - loss: 0.3094\n"
     ]
    },
    {
     "data": {
      "text/plain": [
       "0.3638882193300459"
      ]
     },
     "execution_count": 63,
     "metadata": {},
     "output_type": "execute_result"
    }
   ],
   "source": [
    "# Evaluate the model on the test set\n",
    "\n",
    "regularised_model.evaluate(\n",
    "    test_data,\n",
    "    test_targets,\n",
    "    verbose=2\n",
    ")"
   ]
  },
  {
   "cell_type": "markdown",
   "metadata": {},
   "source": [
    "#### Plot the learning curves"
   ]
  },
  {
   "cell_type": "code",
   "execution_count": 64,
   "metadata": {},
   "outputs": [
    {
     "data": {
      "image/png": "[encoded data removed]",
      "text/plain": [
       "<Figure size 864x360 with 2 Axes>"
      ]
     },
     "metadata": {
      "needs_background": "light"
     },
     "output_type": "display_data"
    }
   ],
   "source": [
    "# Plot the training and validation loss\n",
    "\n",
    "import matplotlib.pyplot as plt\n",
    "\n",
    "fig = plt.figure(figsize=(12, 5))\n",
    "\n",
    "fig.add_subplot(121)\n",
    "\n",
    "plt.plot(unregularised_history.history['loss'])\n",
    "plt.plot(unregularised_history.history['val_loss'])\n",
    "plt.title('Unregularised model: loss vs. epochs')\n",
    "plt.ylabel('Loss')\n",
    "plt.xlabel('Epoch')\n",
    "plt.legend(['Training', 'Validation'], loc='upper right')\n",
    "\n",
    "fig.add_subplot(122)\n",
    "\n",
    "plt.plot(regularised_history.history['loss'])\n",
    "plt.plot(regularised_history.history['val_loss'])\n",
    "plt.title('Regularised model: loss vs. epochs')\n",
    "plt.ylabel('Loss')\n",
    "plt.xlabel('Epoch')\n",
    "plt.legend(['Training', 'Validation'], loc='upper right')\n",
    "\n",
    "plt.show()"
   ]
  },
  {
   "cell_type": "code",
   "execution_count": null,
   "metadata": {},
   "outputs": [],
   "source": []
  }
 ],
 "metadata": {
  "kernelspec": {
   "display_name": "Python 3",
   "language": "python",
   "name": "python3"
  },
  "language_info": {
   "codemirror_mode": {
    "name": "ipython",
    "version": 3
   },
   "file_extension": ".py",
   "mimetype": "text/x-python",
   "name": "python",
   "nbconvert_exporter": "python",
   "pygments_lexer": "ipython3",
   "version": "3.7.1"
  }
 },
 "nbformat": 4,
 "nbformat_minor": 2
}